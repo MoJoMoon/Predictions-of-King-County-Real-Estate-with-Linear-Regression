{
 "cells": [
  {
   "cell_type": "markdown",
   "metadata": {},
   "source": [
    "# Introduction\n",
    "***"
   ]
  },
  {
   "cell_type": "markdown",
   "metadata": {},
   "source": [
    "## Final Project Submission\n",
    "\n",
    "Please fill out:\n",
    "* Student name: \n",
    "* Student pace: self paced / part time / full time\n",
    "* Scheduled project review date/time: \n",
    "* Instructor name: \n",
    "* Blog post URL:\n"
   ]
  },
  {
   "cell_type": "markdown",
   "metadata": {},
   "source": [
    "## Objectives\n",
    "***"
   ]
  },
  {
   "cell_type": "markdown",
   "metadata": {},
   "source": [
    "Modeling for *prediction*\n",
    "\n",
    "Give the objectives of creating a linear regression model that will predict the price of a house in the King County Housing Market. This is done with a King County House Sales dataset. We will clean, explore, and model the dataset with a multivariate linear regression model to predict the sale price of houses as accurately as possible. None of the features of the model can have a p value of greater than 0.05. This will involve:\n",
    "\n",
    " - Understanding the Data: Construct a unique business case around it. Analyzing the dataset from various points of view\n",
    " - Preprocess the Data: Importing the data and preprocessing the data that includes cleaning, scrubbing, handling missing values, and exploring different methods with benchmarking.\n",
    " - Describe the Data: Conduct EDA. Creating novel distributions, comparing multiple distributions, and find insights in the data.\n",
    " - Fit models and conduct Hypothesis Testing: Compare multiple models and give detailed numerical and visual analysis of models.\n",
    " - Gather insights: give a conclusion with recommendations that are business relevant and are driven by analysis"
   ]
  },
  {
   "cell_type": "markdown",
   "metadata": {},
   "source": [
    "## Methodology\n",
    "***"
   ]
  },
  {
   "cell_type": "markdown",
   "metadata": {},
   "source": [
    "### OSEMN Framework:\n",
    "\n",
    "Describe the OSEMN framework and how it will be useful for this project\n",
    "\n",
    "    Obtain\n",
    "    o\tO = Import the data\n",
    "\n",
    "    Scrub\n",
    "    o\tS = Check the datatypes, Deal with missing values/Duplicates, multicollinearity\n",
    "\n",
    "    Explore\n",
    "    o\tE = Find the underlying distributions of the features, Viz for each independent feature(hist), I.D. cat var(plot each pair of ind/dep feature relationships), on-hot, use a q-q plot to check for normally distributed residuals, check assumptions of linear regression feature scaling and normalization\n",
    "    Model\n",
    "    o\tM = Build baseline model, optimize for R^2, Check MSE, I.D. fit confirm with stepwise regression, K-Fold cross validation\n",
    "    \n",
    "    iNterpret\n",
    "    o\tIn – Plot of predictions vs. actual values, explain the R squared value in non technical terms"
   ]
  },
  {
   "cell_type": "markdown",
   "metadata": {},
   "source": [
    "# Obtain\n",
    "***\n",
    "\n",
    "Explain the goals of the obtain portion of this notebook, and it's importance."
   ]
  },
  {
   "cell_type": "markdown",
   "metadata": {},
   "source": [
    "## Import Libraries"
   ]
  },
  {
   "cell_type": "code",
   "execution_count": 2,
   "metadata": {
    "ExecuteTime": {
     "end_time": "2020-03-08T10:49:36.755542Z",
     "start_time": "2020-03-08T10:49:36.751548Z"
    }
   },
   "outputs": [],
   "source": [
    "# Import the initial libraries to be used to import data, plot data, and calculate\n",
    "# the statistics\n",
    "\n",
    "# Describe the libraries and their uses"
   ]
  },
  {
   "cell_type": "markdown",
   "metadata": {},
   "source": [
    "## Import Data"
   ]
  },
  {
   "cell_type": "code",
   "execution_count": 1,
   "metadata": {
    "ExecuteTime": {
     "end_time": "2020-03-08T10:49:33.127157Z",
     "start_time": "2020-03-08T10:49:33.123143Z"
    }
   },
   "outputs": [],
   "source": [
    "# Get the data and copy/paste the descriptions of the columns"
   ]
  },
  {
   "cell_type": "markdown",
   "metadata": {},
   "source": [
    "# Scrub\n",
    "***"
   ]
  },
  {
   "cell_type": "markdown",
   "metadata": {},
   "source": [
    "Explain the goals of the scrub portion of this notebook, and it's importance."
   ]
  },
  {
   "cell_type": "markdown",
   "metadata": {},
   "source": [
    "## Clean the Data\n",
    "\n",
    " - Check the data types\n",
    " - Check object columns\n",
    " - Check numeric columns\n",
    " - Work with categorical data\n",
    " - Deal with missing and duplicate values\n"
   ]
  },
  {
   "cell_type": "markdown",
   "metadata": {},
   "source": [
    "##  Check for multicollinearity\n"
   ]
  },
  {
   "cell_type": "code",
   "execution_count": 3,
   "metadata": {
    "ExecuteTime": {
     "end_time": "2020-03-08T10:56:03.357111Z",
     "start_time": "2020-03-08T10:56:03.353123Z"
    }
   },
   "outputs": [],
   "source": [
    "# Use heatmaps from seaborn,\n",
    "# Use corr() methods to make a correlation table also, assess the results to \n",
    "# determine correlation levels\n"
   ]
  },
  {
   "cell_type": "markdown",
   "metadata": {},
   "source": [
    "##  Conduct feature engineering \n"
   ]
  },
  {
   "cell_type": "code",
   "execution_count": 6,
   "metadata": {
    "ExecuteTime": {
     "end_time": "2020-03-08T10:58:14.252818Z",
     "start_time": "2020-03-08T10:58:14.249823Z"
    }
   },
   "outputs": [],
   "source": [
    "# Make some features that may help make a great model\n",
    "# May look for the important variables with an XGBoost model, then make \n",
    "# features based on these important variables"
   ]
  },
  {
   "cell_type": "markdown",
   "metadata": {},
   "source": [
    "##  Normalize the data"
   ]
  },
  {
   "cell_type": "code",
   "execution_count": 5,
   "metadata": {
    "ExecuteTime": {
     "end_time": "2020-03-08T10:57:23.291953Z",
     "start_time": "2020-03-08T10:57:23.288936Z"
    }
   },
   "outputs": [],
   "source": [
    "# Make sure the data is normalized statistically using z-score"
   ]
  },
  {
   "cell_type": "markdown",
   "metadata": {},
   "source": [
    "# Explore\n",
    "***"
   ]
  },
  {
   "cell_type": "markdown",
   "metadata": {},
   "source": [
    "Explain the goals of the explore portion of this notebook, and it's importance."
   ]
  },
  {
   "cell_type": "markdown",
   "metadata": {},
   "source": [
    "## Distributions"
   ]
  },
  {
   "cell_type": "code",
   "execution_count": 17,
   "metadata": {
    "ExecuteTime": {
     "end_time": "2020-03-08T11:44:25.490773Z",
     "start_time": "2020-03-08T11:44:25.486719Z"
    }
   },
   "outputs": [],
   "source": [
    "# Use describe method to get initial statistics on the data\n",
    "# Create visualizations such as histograms or facetgrids to visualize the distributions of features\n",
    "# Use KDE plots to visualize an approximate probability density of variables use jointplot\n",
    "\n",
    "# https://www.kaggle.com/sudalairajkumar/simple-exploration-notebook-sberbank\n",
    "\n",
    "# Use subplots, violin plots and scatter plots"
   ]
  },
  {
   "cell_type": "markdown",
   "metadata": {},
   "source": [
    "## Feature Scaling"
   ]
  },
  {
   "cell_type": "markdown",
   "metadata": {},
   "source": [
    "https://sebastianraschka.com/Articles/2014_about_feature_scaling.html before the test/train split, split into train and test"
   ]
  },
  {
   "cell_type": "markdown",
   "metadata": {},
   "source": [
    "# Model\n",
    "***"
   ]
  },
  {
   "cell_type": "markdown",
   "metadata": {},
   "source": [
    "Explain the goals of the model portion of this notebook, and it's importance."
   ]
  },
  {
   "cell_type": "markdown",
   "metadata": {
    "ExecuteTime": {
     "end_time": "2020-03-08T11:15:27.534915Z",
     "start_time": "2020-03-08T11:15:27.530385Z"
    }
   },
   "source": [
    "## Null hypothesis"
   ]
  },
  {
   "cell_type": "code",
   "execution_count": 10,
   "metadata": {
    "ExecuteTime": {
     "end_time": "2020-03-08T11:19:44.141493Z",
     "start_time": "2020-03-08T11:19:44.137503Z"
    }
   },
   "outputs": [],
   "source": [
    "# Create the hypothesis and null hypothesis for the model, H0 & H1"
   ]
  },
  {
   "cell_type": "markdown",
   "metadata": {},
   "source": [
    "## Baseline Model"
   ]
  },
  {
   "cell_type": "markdown",
   "metadata": {},
   "source": [
    "Import the libraries for making models statsmodels and scikit-learn"
   ]
  },
  {
   "cell_type": "markdown",
   "metadata": {},
   "source": [
    "Now, let's perform a number of simple regression experiments between the chosen independent variables and the dependent variable (price). You'll do this in a loop and in every iteration, you should pick one of the independent variables. Perform the following steps:\n",
    "\n",
    " - Find the appropriate ratio of the train/test sets with for loop\n",
    "\n",
    " - Run a simple OLS regression between independent and dependent variables\n",
    " - Plot a regression line on the scatter plots\n",
    " - Plot the residuals using sm.graphics.plot_regress_exog()\n",
    " - Plot a Q-Q plot for regression residuals normality test\n",
    " - Store following values in array for each iteration:\n",
    " - Independent Variable\n",
    "        - r_squared'\n",
    "        - intercept'\n",
    "        - 'slope'\n",
    "        - 'p-value'\n",
    "        - 'normality (JB)'\n",
    "Comment on each output"
   ]
  },
  {
   "cell_type": "code",
   "execution_count": 14,
   "metadata": {
    "ExecuteTime": {
     "end_time": "2020-03-08T11:39:33.435319Z",
     "start_time": "2020-03-08T11:39:33.431780Z"
    }
   },
   "outputs": [],
   "source": [
    "# USE VIF and or setp wise function to find the most important features\n",
    "# show the coefficients of these variables and p-values to ensure they are lower\n",
    "# than the 0.05. Comment on these variables\n",
    "# RMSE"
   ]
  },
  {
   "cell_type": "markdown",
   "metadata": {},
   "source": [
    "## Model Refinements"
   ]
  },
  {
   "cell_type": "markdown",
   "metadata": {},
   "source": [
    "> Now use only the most valuable features for a refined model, increasing model performance."
   ]
  },
  {
   "cell_type": "markdown",
   "metadata": {},
   "source": [
    "## Linear Regression assumptions"
   ]
  },
  {
   "cell_type": "code",
   "execution_count": 18,
   "metadata": {
    "ExecuteTime": {
     "end_time": "2020-03-08T11:44:48.982819Z",
     "start_time": "2020-03-08T11:44:48.979826Z"
    }
   },
   "outputs": [],
   "source": [
    "# Check again for multicollinearity\n",
    "# Check for normality\n",
    "# Check for homoscedasticity (may need to remove some outliers)\n",
    "# Interactions use heatmap to show them again\n",
    "# K-fold cross validation"
   ]
  },
  {
   "cell_type": "markdown",
   "metadata": {},
   "source": [
    "# iNterpret\n",
    "***"
   ]
  },
  {
   "cell_type": "markdown",
   "metadata": {},
   "source": [
    "Explain the goals of the explore portion of this notebook, and it's importance."
   ]
  },
  {
   "cell_type": "markdown",
   "metadata": {},
   "source": [
    "## Predictions Vs. Actual values"
   ]
  },
  {
   "cell_type": "code",
   "execution_count": 16,
   "metadata": {
    "ExecuteTime": {
     "end_time": "2020-03-08T11:40:20.867384Z",
     "start_time": "2020-03-08T11:40:20.863394Z"
    }
   },
   "outputs": [],
   "source": [
    "# Explain R-squared values, p-values\n",
    "# Show predictions in actual proce values\n",
    "# Give analysis of the important features for prediction\n",
    "# Give business case insights on these features"
   ]
  },
  {
   "cell_type": "markdown",
   "metadata": {},
   "source": [
    "# Quantum Multivariate Linear Regression\n",
    "***"
   ]
  },
  {
   "cell_type": "markdown",
   "metadata": {},
   "source": [
    "Make the model, give comparison to the other model, show business case feasibility."
   ]
  },
  {
   "cell_type": "markdown",
   "metadata": {},
   "source": [
    "# Conclusion\n",
    "***"
   ]
  },
  {
   "cell_type": "markdown",
   "metadata": {},
   "source": [
    "Give final insights as to how the linear regression model performs and the most important features. Display business use cases of how this information may be useful in a business setting."
   ]
  },
  {
   "cell_type": "code",
   "execution_count": null,
   "metadata": {},
   "outputs": [],
   "source": []
  }
 ],
 "metadata": {
  "kernelspec": {
   "display_name": "Python 3",
   "language": "python",
   "name": "python3"
  },
  "language_info": {
   "codemirror_mode": {
    "name": "ipython",
    "version": 3
   },
   "file_extension": ".py",
   "mimetype": "text/x-python",
   "name": "python",
   "nbconvert_exporter": "python",
   "pygments_lexer": "ipython3",
   "version": "3.7.4"
  },
  "toc": {
   "base_numbering": 1,
   "nav_menu": {},
   "number_sections": true,
   "sideBar": true,
   "skip_h1_title": false,
   "title_cell": "Table of Contents",
   "title_sidebar": "Contents",
   "toc_cell": false,
   "toc_position": {},
   "toc_section_display": true,
   "toc_window_display": true
  }
 },
 "nbformat": 4,
 "nbformat_minor": 2
}
